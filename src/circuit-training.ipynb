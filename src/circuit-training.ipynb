{
 "cells": [
  {
   "cell_type": "markdown",
   "metadata": {},
   "source": [
    "# Generative Learning Using a Quantum Computer"
   ]
  },
  {
   "cell_type": "markdown",
   "metadata": {},
   "source": [
    "In this tutorial, we implement Data-driven quantum circuit learning (DDQCL), based on the 2019 paper [Training of quantum circuits on a hybrid quantum computer](https://advances.sciencemag.org/content/5/10/eaaw9918) by Zhu et. al."
   ]
  },
  {
   "cell_type": "markdown",
   "metadata": {},
   "source": [
    "### DQCCL\n",
    "DDQCL is a hybrid quantum-classical technique for generative modeling of classical data, using a parametrized quantum circuit as the model being trained. Training occurs by sampling the output of a parametrized circuit run on a quantum computer and updating the circuit parameters using classical optimization techniques. Convergence produces a circuit that captures the correlations in the training data, thus serving as a generative model for the data itself."
   ]
  },
  {
   "attachments": {
    "c0eeb85b-c61f-404b-8d44-98dade577195.png": {
     "image/png": "[encoded data removed]"
    }
   },
   "cell_type": "markdown",
   "metadata": {},
   "source": [
    "### The Bars-And-Stripes (BAS) Dataset\n",
    "The data we will be training against is a canonical ensemble that works like so: for an $n \\times m$ matrix, each cell can either be on (filled-in) or off (blank); in this example, we consider it a valid BAS example if it contains only a single completely filled row (bars) or column (stripes). \n",
    "\n",
    "For a 2x2 matrix, like we will be using in this example, this allows for four valid patterns of 16 total permutations:\n",
    "\n",
    "['■ ', '■ ']\n",
    "['□ ', '□ ']\n",
    "\n",
    "['□ ', '□ ']\n",
    "['■ ', '■ ']\n",
    "\n",
    "['■ ', '□ ']\n",
    "['■ ', '□ ']\n",
    "\n",
    "['□ ', '■ ']\n",
    "['□ ', '■ ']\n",
    "\n"
   ]
  },
  {
   "cell_type": "code",
   "execution_count": 1,
   "metadata": {},
   "outputs": [
    {
     "output_type": "execute_result",
     "data": {
      "text/plain": [
       "['□ ', '■ ']"
      ]
     },
     "metadata": {},
     "execution_count": 1
    }
   ],
   "source": [
    "['■ ', '■ ']\n",
    "['□ ', '□ ']\n",
    "\n",
    "['□ ', '□ ']\n",
    "['■ ', '■ ']\n",
    "\n",
    "['■ ', '□ ']\n",
    "['■ ', '□ ']\n",
    "\n",
    "['□ ', '■ ']\n",
    "['□ ', '■ ']"
   ]
  },
  {
   "source": [
    "We encode this as a binary string by reading left-to-right, top-to-bottom, with a filled-in cell representing a 1 and a blank cell a 0; the above valid examples translate (in order) to 1100, 0011, 1010, and 0101."
   ],
   "cell_type": "markdown",
   "metadata": {}
  },
  {
   "cell_type": "markdown",
   "metadata": {},
   "source": [
    "## Implementation\n",
    "We will be implementing this technique using noisyopt, a python library for optimizing noisy functions. To do that, we'll need to define\n",
    "1. A generator for our BAS training data\n",
    "2. A generator for our parametrized circuit\n",
    "3. A cost function for our optimizer\n",
    "4. Methods for running circuits on the Azure IonQ backend\n",
    "5. The hybrid learning algorithm itself, using all of the above"
   ]
  },
  {
   "cell_type": "markdown",
   "metadata": {},
   "source": [
    "## Imports and Setup"
   ]
  },
  {
   "cell_type": "markdown",
   "metadata": {},
   "source": [
    "First, we'll do some setup that will allow us to build, optimize, visualize, store, and retrieve the circuits we'll be running via Azure."
   ]
  },
  {
   "cell_type": "code",
   "execution_count": 2,
   "metadata": {
    "scrolled": true
   },
   "outputs": [
    {
     "output_type": "stream",
     "name": "stdout",
     "text": [
      "Defaulting to user installation because normal site-packages is not writeable\n",
      "Looking in indexes: https://pypi.org/simple, https://pkgs.dev.azure.com/ms-quantum-public/9af4e09e-a436-4aca-9559-2094cfe8d80c/_packaging/alpha/pypi/simple/\n",
      "Requirement already satisfied: noisyopt in /home/sjohri/.local/lib/python3.6/site-packages (0.2.2)\n",
      "Requirement already satisfied: scipy in /home/sjohri/.local/lib/python3.6/site-packages (from noisyopt) (1.5.2)\n",
      "Requirement already satisfied: numpy in /home/sjohri/.local/lib/python3.6/site-packages (from noisyopt) (1.19.1)\n",
      "\u001b[33mWARNING: You are using pip version 21.0; however, version 21.0.1 is available.\n",
      "You should consider upgrading via the '/usr/bin/python3 -m pip install --upgrade pip' command.\u001b[0m\n",
      "Note: you may need to restart the kernel to use updated packages.\n"
     ]
    }
   ],
   "source": [
    "# general imports\n",
    "import math\n",
    "import time\n",
    "import pickle\n",
    "import random\n",
    "import numpy as np\n",
    "import matplotlib.pyplot as plt\n",
    "from scipy.optimize import minimize\n",
    "from datetime import datetime\n",
    "import string\n",
    "\n",
    "# Noisy optimization package — you could also use scipy's optimization functions, \n",
    "# but this is a little better suited to the noisy output of NISQ devices.\n",
    "%pip install noisyopt\n",
    "import noisyopt\n",
    "\n",
    "# magic invocation for producing visualizations in notebook\n",
    "%matplotlib inline"
   ]
  },
  {
   "cell_type": "code",
   "execution_count": 4,
   "metadata": {},
   "outputs": [],
   "source": [
    "# Import qsharp routines and connect to azure workspace\n",
    "import qsharp\n",
    "import qsharp.azure\n",
    "from Cost import AllocateQubitsandRunCircuit\n",
    "# Uncomment line below with your resource id\n",
    "#qsharp.azure.connect(resourceId='MyId') "
   ]
  },
  {
   "cell_type": "code",
   "execution_count": 4,
   "metadata": {},
   "outputs": [],
   "source": [
    "# fix random seed for reproducibility — this allows us to re-run the process and get the same results\n",
    "seed = 42\n",
    "np.random.seed(seed)\n",
    "random.seed(a=seed)"
   ]
  },
  {
   "cell_type": "markdown",
   "metadata": {},
   "source": [
    "## BAS Generator"
   ]
  },
  {
   "cell_type": "markdown",
   "metadata": {},
   "source": [
    "Here we generate our bars and stripes — as this is just a proof-of-principle, we are limiting the possible outputs to the four single-bar or single-stripe outputs to keep convergence time (and therefore training cost) low."
   ]
  },
  {
   "cell_type": "code",
   "execution_count": 5,
   "metadata": {},
   "outputs": [],
   "source": [
    "#Generate BAS, only one bar or stripe allowed\n",
    "def generate_target_distribution(rows, columns):        \n",
    "    #Stripes\n",
    "    states=[]\n",
    "    for i in range(rows):\n",
    "        s=['0']*rows*columns\n",
    "        for j in range(columns):\n",
    "            s[j+columns*i]='1'\n",
    "        states.append(''.join(s))\n",
    "                \n",
    "        \n",
    "    #Bars\n",
    "    for j in range(columns):\n",
    "        s=['0']*rows*columns\n",
    "        for i in range(rows):\n",
    "            s[j+columns*i]='1'\n",
    "        states.append(''.join(s))\n",
    "    print(states)\n",
    "    return states"
   ]
  },
  {
   "cell_type": "markdown",
   "metadata": {},
   "source": [
    "## Circuit Generator"
   ]
  },
  {
   "cell_type": "markdown",
   "metadata": {},
   "source": [
    "Here we define several driver functions which consist of parametrized one qubit gates that help to explore the Hilbert space, and several entangler functions that generate entanglement in the system. \n",
    "\n",
    "The complete circuit ansatz consists of repeating layers of the drivers and entanglers. The parameters ($\\gamma$ and $\\beta$) of the ansatz are iteratively optimized (learned) by our hybrid quantum-clasical routine."
   ]
  },
  {
   "cell_type": "code",
   "execution_count": 6,
   "metadata": {},
   "outputs": [],
   "source": [
    "#Parameters for driver\n",
    "def generate_beta(random_init, n,layers):\n",
    "    \n",
    "    beta=(\n",
    "        [random.uniform(0.0,2.*math.pi) for i in range(3*n*(layers-1))] \n",
    "        if random_init \n",
    "        else [0]*3*n*(layers-1)\n",
    "    )\n",
    "            \n",
    "    return beta\n",
    "\n",
    "#Parameters for entangler\n",
    "def generate_gamma(random_init, n, conn,layers):\n",
    "    length_gamma=int(n*conn-conn*(conn+1)/2.)\n",
    "    gamma=(\n",
    "        [random.uniform(0.0,2.*math.pi) for i in range(length_gamma*layers)]\n",
    "        if random_init\n",
    "        else [0]*length_gamma*layers\n",
    "    )\n",
    "            \n",
    "    return gamma\n",
    "\n"
   ]
  },
  {
   "cell_type": "markdown",
   "metadata": {},
   "source": [
    "## Cost function"
   ]
  },
  {
   "cell_type": "markdown",
   "metadata": {},
   "source": [
    "Here, we define our cost function to feed to the optimization routine, which takes the form of a regularized Kullback-Leibler Divergence ([Quick Overview](https://medium.com/@cdefaux/kullback-leibler-divergence-for-dummies-c3613bc80ad3), [Wikipedia](https://en.wikipedia.org/wiki/Kullback%E2%80%93Leibler_divergence))."
   ]
  },
  {
   "cell_type": "code",
   "execution_count": 9,
   "metadata": {},
   "outputs": [],
   "source": [
    "def cost(prob_hist, target_states,tol=0.0001):\n",
    "    cost=0\n",
    "    for state in target_states:        \n",
    "        if state in prob_hist:\n",
    "            cost-=1./len(target_states)*np.log2(max(tol,prob_hist[state]))\n",
    "        else:\n",
    "            cost-=1./len(target_states)*np.log2(tol)\n",
    "    \n",
    "    return cost"
   ]
  },
  {
   "cell_type": "markdown",
   "metadata": {},
   "source": [
    "## Helper Methods"
   ]
  },
  {
   "cell_type": "markdown",
   "metadata": {},
   "source": [
    "Finally, we define two helper methods: `run_iteration`, to run and return each iteration of our circuit (with some helpful tools for managing timeouts and waiting for results) and `run_circuit_and_calc_cost`, which  uses `run_iteration` to both run an interation of the circuit and calculate a new cost function, effectively taking a training step."
   ]
  },
  {
   "cell_type": "code",
   "execution_count": 15,
   "metadata": {},
   "outputs": [],
   "source": [
    "def run_iteration(params, n, conn, layers, shots): \n",
    "    n, conn, layers, target_states, shots = args\n",
    "\n",
    "    # submit task: define task (asynchronous)\n",
    "    task_status=''\n",
    "    while task_status != 'Succeeded':\n",
    "        task = qsharp.azure.submit(AllocateQubitsandRunCircuit, n=n, parameters=params, conn=conn, layers=layers, shots=shots)        \n",
    "   \n",
    "        # Get ID of submitted task\n",
    "        task_id = task.id\n",
    "        #print('Task ID :', task_id)\n",
    "\n",
    "        task_status=qsharp.azure.status(task_id).status\n",
    "        while (task_status == 'Waiting') or (task_status == 'Finishing') or (task_status == 'Executing'):\n",
    "            time.sleep(1)\n",
    "            task_status=qsharp.azure.status(task_id).status\n",
    "        \n",
    "        print('Task status is', task_status)\n",
    "\n",
    "    # get result\n",
    "    result = qsharp.azure.output(task_id)\n",
    "    result_bits={}\n",
    "    for state in result:\n",
    "        state_bits=state.strip(\"[]\").replace(',','')\n",
    "        result_bits[state_bits]=result[state]\n",
    "\n",
    "    return result_bits\n",
    "\n",
    "#Run an iteration of the circuit and calculate its cost\n",
    "def run_circuit_and_calc_cost(params, *args):\n",
    "    n, conn, layers, target_states, shots = args\n",
    "    result=run_iteration(params, n, conn, layers, shots)   \n",
    "    cost_run = cost(result, target_states)\n",
    "    print(cost_run)\n",
    "    return cost_run"
   ]
  },
  {
   "cell_type": "markdown",
   "metadata": {},
   "source": [
    "# Running The Learning Algorithm"
   ]
  },
  {
   "cell_type": "markdown",
   "metadata": {},
   "source": [
    "Now we're ready to run the learning algorithm and train our circuit."
   ]
  },
  {
   "cell_type": "markdown",
   "metadata": {},
   "source": [
    "### Set Up Training Data"
   ]
  },
  {
   "cell_type": "markdown",
   "metadata": {},
   "source": [
    "First, we'll set up our training data for the problem using the method we defined earlier."
   ]
  },
  {
   "cell_type": "code",
   "execution_count": 11,
   "metadata": {},
   "outputs": [
    {
     "output_type": "stream",
     "name": "stdout",
     "text": [
      "['1100', '0011', '1010', '0101']\nBitstrings that should be generated by trained circuit are ['1100', '0011', '1010', '0101'] corresponding to the following BAS patterns:\n\n['■ ', '■ ']\n['□ ', '□ ']\n\n['□ ', '□ ']\n['■ ', '■ ']\n\n['■ ', '□ ']\n['■ ', '□ ']\n\n['□ ', '■ ']\n['□ ', '■ ']\n\n"
     ]
    }
   ],
   "source": [
    "#Set problem parameters\n",
    "r=2 #Number of rows — make sure r*c is less than qubit count\n",
    "c=2 #Number of columns — make sure r*c is less than qubit count\n",
    "n=r*c #Qubits needed\n",
    "conn=2 #Connectivity of the entangler.\n",
    "\n",
    "#Check on conn\n",
    "if conn>(n-1):\n",
    "    raise Exception(\"Connectivity is too large\")\n",
    "    \n",
    "target_states=generate_target_distribution(r,c)\n",
    "\n",
    "# Check expected output\n",
    "print('Bitstrings that should be generated by trained circuit are', target_states, 'corresponding to the following BAS patterns:\\n')\n",
    "for state in target_states:\n",
    "    #bitstring = bin(state)[2:].zfill(n)\n",
    "    #print(bitstring)\n",
    "    #print(state, \"({})\".format(bitstring))\n",
    "    for i in range(r):\n",
    "        state_2d=state[c*i:][:c]\n",
    "        state_2d=['□ ' if x=='0' else '■ ' for x in state_2d]\n",
    "        print(state_2d)\n",
    "        #print(bitstring[c*i:][:c].replace('0','□ ').replace('1','■ '))\n",
    "    print('')"
   ]
  },
  {
   "cell_type": "markdown",
   "metadata": {},
   "source": [
    "### Choose Target Device\n",
    "\n",
    "We need to do this first because we check against its capabilities when building the training data and circuit. We do not recommend running this this algorithm against a real hardware device until you have run it on a simulator to understand estimated price and if it will converge with the parameters you've selected."
   ]
  },
  {
   "cell_type": "code",
   "execution_count": 12,
   "metadata": {},
   "outputs": [
    {
     "output_type": "stream",
     "name": "stdout",
     "text": [
      "Loading package Microsoft.Quantum.Providers.IonQ and dependencies...\nActive target is now ionq.simulator\n"
     ]
    },
    {
     "output_type": "execute_result",
     "data": {
      "text/plain": [
       "{'id': 'ionq.simulator', 'current_availability': 'Available', 'average_queue_time': 0}"
      ]
     },
     "metadata": {},
     "execution_count": 12
    }
   ],
   "source": [
    "qsharp.azure.target(\"ionq.simulator\")"
   ]
  },
  {
   "cell_type": "markdown",
   "metadata": {},
   "source": [
    "### Set Up Training Parameters\n",
    "Now, we'll set up our parameters for the training routine itself — these are all tunable; feel free to play with them to see how they impact the routine (especially when running on a local simulator!). Again, because this is just a proof-of-principle demo, we've selected some defaults that keep convergence time and training cost low."
   ]
  },
  {
   "cell_type": "code",
   "execution_count": 13,
   "metadata": {},
   "outputs": [],
   "source": [
    "# Choose entangler and driver type\n",
    "layers=1 # Number of layers in each circuit\n",
    "shots=1000 # Number of shots per iteration\n",
    "random_init=False # Set to true for random initialization; will be slower to converge\n",
    "\n",
    "# Set up args\n",
    "beta=generate_beta(random_init, n, layers)\n",
    "gamma=generate_gamma(random_init, n, conn, layers)\n",
    "params=beta+gamma\n",
    "\n",
    "base_bounds=(0,2.*math.pi)\n",
    "bnds=((base_bounds , ) * len(params)) \n",
    "\n",
    "max_iter=10 # max number of optimizer iterations\n",
    "\n",
    "args=(n, conn, layers, target_states, shots)\n"
   ]
  },
  {
   "cell_type": "code",
   "execution_count": 11,
   "metadata": {
    "tags": []
   },
   "outputs": [
    {
     "output_type": "stream",
     "name": "stdout",
     "text": [
      "Submitting Cost.AllocateQubitsandRunCircuit to target ionq.simulator...\n",
      "Job successfully submitted for 1000 shots.\n",
      "   Job name: Cost.AllocateQubitsandRunCircuit\n",
      "   Job ID: 913e9922-8099-4677-881f-97340278063f\n",
      "Task status is Succeeded\n",
      "13.287712379549449\n",
      "Submitting Cost.AllocateQubitsandRunCircuit to target ionq.simulator...\n",
      "Job successfully submitted for 1000 shots.\n",
      "   Job name: Cost.AllocateQubitsandRunCircuit\n",
      "   Job ID: 56f9a07c-b04c-4b7a-94a5-481ebeb8dbeb\n",
      "Task status is Failed\n",
      "Submitting Cost.AllocateQubitsandRunCircuit to target ionq.simulator...\n",
      "Job successfully submitted for 1000 shots.\n",
      "   Job name: Cost.AllocateQubitsandRunCircuit\n",
      "   Job ID: 75ed2a5c-cdf4-434c-854f-6f135981a651\n",
      "Task status is Succeeded\n",
      "4.274351649294314\n",
      "Submitting Cost.AllocateQubitsandRunCircuit to target ionq.simulator...\n",
      "Job successfully submitted for 1000 shots.\n",
      "   Job name: Cost.AllocateQubitsandRunCircuit\n",
      "   Job ID: fa4b1cf8-4db2-4643-a41f-1de613b2c9bf\n",
      "Task status is Succeeded\n",
      "7.960304565552633\n",
      "Submitting Cost.AllocateQubitsandRunCircuit to target ionq.simulator...\n",
      "Job successfully submitted for 1000 shots.\n",
      "   Job name: Cost.AllocateQubitsandRunCircuit\n",
      "   Job ID: 902ecc18-0291-4d6e-b52c-a0d8faf55872\n",
      "Task status is Succeeded\n",
      "3.9493451273337237\n",
      "Submitting Cost.AllocateQubitsandRunCircuit to target ionq.simulator...\n",
      "Job successfully submitted for 1000 shots.\n",
      "   Job name: Cost.AllocateQubitsandRunCircuit\n",
      "   Job ID: 401fc86e-03a5-417d-ad9a-33080b9900db\n",
      "Task status is Succeeded\n",
      "2.8332926091741806\n",
      "Submitting Cost.AllocateQubitsandRunCircuit to target ionq.simulator...\n",
      "Job successfully submitted for 1000 shots.\n",
      "   Job name: Cost.AllocateQubitsandRunCircuit\n",
      "   Job ID: fe76f912-a24b-48df-b6a5-fa08d686117e\n",
      "Task status is Succeeded\n",
      "5.152074734996336\n",
      "Submitting Cost.AllocateQubitsandRunCircuit to target ionq.simulator...\n",
      "Job successfully submitted for 1000 shots.\n",
      "   Job name: Cost.AllocateQubitsandRunCircuit\n",
      "   Job ID: 42f6bea3-dc53-4b58-91ee-9d56336ea0d7\n",
      "Task status is Succeeded\n",
      "4.548454829935057\n",
      "Submitting Cost.AllocateQubitsandRunCircuit to target ionq.simulator...\n",
      "Job successfully submitted for 1000 shots.\n",
      "   Job name: Cost.AllocateQubitsandRunCircuit\n",
      "   Job ID: a934875c-9ef0-453a-b5d8-7dfa2af8226b\n",
      "Task status is Succeeded\n",
      "4.771765266456638\n",
      "Submitting Cost.AllocateQubitsandRunCircuit to target ionq.simulator...\n",
      "Job successfully submitted for 1000 shots.\n",
      "   Job name: Cost.AllocateQubitsandRunCircuit\n",
      "   Job ID: dca91b7f-a03d-4083-a595-7e0a6d23c433\n",
      "Task status is Succeeded\n",
      "4.294973476652679\n",
      "Submitting Cost.AllocateQubitsandRunCircuit to target ionq.simulator...\n",
      "Job successfully submitted for 1000 shots.\n",
      "   Job name: Cost.AllocateQubitsandRunCircuit\n",
      "   Job ID: 37f5cea6-6e54-486d-a8df-a3d63c98ae4f\n",
      "Task status is Succeeded\n",
      "3.2622358836493266\n",
      "Submitting Cost.AllocateQubitsandRunCircuit to target ionq.simulator...\n",
      "Job successfully submitted for 1000 shots.\n",
      "   Job name: Cost.AllocateQubitsandRunCircuit\n",
      "   Job ID: d1840ac6-91fd-4c13-927e-ef1027af557c\n",
      "Task status is Succeeded\n",
      "5.713254992143817\n",
      "Submitting Cost.AllocateQubitsandRunCircuit to target ionq.simulator...\n",
      "Job successfully submitted for 1000 shots.\n",
      "   Job name: Cost.AllocateQubitsandRunCircuit\n",
      "   Job ID: 0d326021-5a3e-4b35-ba15-9e8aa2851d1c\n",
      "Task status is Succeeded\n",
      "3.5554617078618365\n",
      "Submitting Cost.AllocateQubitsandRunCircuit to target ionq.simulator...\n",
      "Job successfully submitted for 1000 shots.\n",
      "   Job name: Cost.AllocateQubitsandRunCircuit\n",
      "   Job ID: f3d2fe21-80a9-49d0-9166-5a9f6d173fb3\n",
      "Task status is Succeeded\n",
      "2.242383132005907\n",
      "Submitting Cost.AllocateQubitsandRunCircuit to target ionq.simulator...\n",
      "Job successfully submitted for 1000 shots.\n",
      "   Job name: Cost.AllocateQubitsandRunCircuit\n",
      "   Job ID: a333b7a5-b6b3-469f-a1f3-580e32d6c140\n",
      "Task status is Succeeded\n",
      "5.386442489090983\n",
      "Submitting Cost.AllocateQubitsandRunCircuit to target ionq.simulator...\n",
      "Job successfully submitted for 1000 shots.\n",
      "   Job name: Cost.AllocateQubitsandRunCircuit\n",
      "   Job ID: 9c6066df-bcba-448d-976c-034343673135\n",
      "Task status is Succeeded\n",
      "3.340122077429153\n",
      "Submitting Cost.AllocateQubitsandRunCircuit to target ionq.simulator...\n",
      "Job successfully submitted for 1000 shots.\n",
      "   Job name: Cost.AllocateQubitsandRunCircuit\n",
      "   Job ID: d175f370-e23a-427c-bfad-8f1304cde7f3\n",
      "Task status is Succeeded\n",
      "3.2522253374459824\n",
      "Submitting Cost.AllocateQubitsandRunCircuit to target ionq.simulator...\n",
      "Job successfully submitted for 1000 shots.\n",
      "   Job name: Cost.AllocateQubitsandRunCircuit\n",
      "   Job ID: b00c878e-7246-4a7e-91fd-525f26efcd57\n",
      "Task status is Succeeded\n",
      "3.2333324092737303\n",
      "Submitting Cost.AllocateQubitsandRunCircuit to target ionq.simulator...\n",
      "Job successfully submitted for 1000 shots.\n",
      "   Job name: Cost.AllocateQubitsandRunCircuit\n",
      "   Job ID: 584d2e75-11c3-4d65-aa5b-20eb08b2acc6\n",
      "Task status is Succeeded\n",
      "3.3050601557304584\n",
      "Submitting Cost.AllocateQubitsandRunCircuit to target ionq.simulator...\n",
      "Job successfully submitted for 1000 shots.\n",
      "   Job name: Cost.AllocateQubitsandRunCircuit\n",
      "   Job ID: 2acaf22a-f06f-450b-a09f-4d1fbcf57e90\n",
      "Task status is Succeeded\n",
      "2.8503986252090847\n",
      "Submitting Cost.AllocateQubitsandRunCircuit to target ionq.simulator...\n",
      "Job successfully submitted for 1000 shots.\n",
      "   Job name: Cost.AllocateQubitsandRunCircuit\n",
      "   Job ID: 6be22795-6777-43d6-8210-2f428b5a855c\n",
      "Task status is Succeeded\n",
      "4.043439617109177\n",
      "Submitting Cost.AllocateQubitsandRunCircuit to target ionq.simulator...\n",
      "Job successfully submitted for 1000 shots.\n",
      "   Job name: Cost.AllocateQubitsandRunCircuit\n",
      "   Job ID: d59d8680-166c-4d5a-a895-23a97d2b7b89\n",
      "Task status is Succeeded\n",
      "2.1583604764830064\n",
      "Success:  True\n",
      "terminated after reaching max number of iterations\n",
      "Final cost function is  2.1583604764830064\n",
      "Min possible cost function is  2.0\n",
      "Number of iterations is  10\n",
      "Number of function evaluations is  20\n",
      "Number of parameters was  5\n",
      "Submitting Cost.AllocateQubitsandRunCircuit to target ionq.simulator...\n",
      "Job successfully submitted for 1000 shots.\n",
      "   Job name: Cost.AllocateQubitsandRunCircuit\n",
      "   Job ID: b82b9b8e-b2f2-4c6e-a7ac-67bbdc315806\n",
      "Task status is Succeeded\n"
     ]
    },
    {
     "output_type": "execute_result",
     "data": {
      "text/plain": [
       "<BarContainer object of 16 artists>"
      ]
     },
     "metadata": {},
     "execution_count": 11
    },
    {
     "output_type": "display_data",
     "data": {
      "text/plain": "<Figure size 432x288 with 1 Axes>",
      "image/svg+xml": "<?xml version=\"1.0\" encoding=\"utf-8\" standalone=\"no\"?>\n<!DOCTYPE svg PUBLIC \"-//W3C//DTD SVG 1.1//EN\"\n  \"http://www.w3.org/Graphics/SVG/1.1/DTD/svg11.dtd\">\n<!-- Created with matplotlib (https://matplotlib.org/) -->\n<svg height=\"248.518125pt\" version=\"1.1\" viewBox=\"0 0 381.168056 248.518125\" width=\"381.168056pt\" xmlns=\"http://www.w3.org/2000/svg\" xmlns:xlink=\"http://www.w3.org/1999/xlink\">\n <metadata>\n  <rdf:RDF xmlns:cc=\"http://creativecommons.org/ns#\" xmlns:dc=\"http://purl.org/dc/elements/1.1/\" xmlns:rdf=\"http://www.w3.org/1999/02/22-rdf-syntax-ns#\">\n   <cc:Work>\n    <dc:type rdf:resource=\"http://purl.org/dc/dcmitype/StillImage\"/>\n    <dc:date>2021-01-29T03:17:11.620557</dc:date>\n    <dc:format>image/svg+xml</dc:format>\n    <dc:creator>\n     <cc:Agent>\n      <dc:title>Matplotlib v3.3.0, https://matplotlib.org/</dc:title>\n     </cc:Agent>\n    </dc:creator>\n   </cc:Work>\n  </rdf:RDF>\n </metadata>\n <defs>\n  <style type=\"text/css\">*{stroke-linecap:butt;stroke-linejoin:round;}</style>\n </defs>\n <g id=\"figure_1\">\n  <g id=\"patch_1\">\n   <path d=\"M 0 248.518125 \nL 381.168056 248.518125 \nL 381.168056 0 \nL 0 0 \nz\n\" style=\"fill:none;\"/>\n  </g>\n  <g id=\"axes_1\">\n   <g id=\"patch_2\">\n    <path d=\"M 36.465625 224.64 \nL 371.265625 224.64 \nL 371.265625 7.2 \nL 36.465625 7.2 \nz\n\" style=\"fill:#ffffff;\"/>\n   </g>\n   <g id=\"patch_3\">\n    <path clip-path=\"url(#p0c16256e05)\" d=\"M 51.683807 224.64 \nL 67.094624 224.64 \nL 67.094624 215.025735 \nL 51.683807 215.025735 \nz\n\" style=\"fill:#1f77b4;\"/>\n   </g>\n   <g id=\"patch_4\">\n    <path clip-path=\"url(#p0c16256e05)\" d=\"M 70.947328 224.64 \nL 86.358145 224.64 \nL 86.358145 224.64 \nL 70.947328 224.64 \nz\n\" style=\"fill:#1f77b4;\"/>\n   </g>\n   <g id=\"patch_5\">\n    <path clip-path=\"url(#p0c16256e05)\" d=\"M 90.210849 224.64 \nL 105.621666 224.64 \nL 105.621666 224.64 \nL 90.210849 224.64 \nz\n\" style=\"fill:#1f77b4;\"/>\n   </g>\n   <g id=\"patch_6\">\n    <path clip-path=\"url(#p0c16256e05)\" d=\"M 109.474371 224.64 \nL 124.885188 224.64 \nL 124.885188 30.500943 \nL 109.474371 30.500943 \nz\n\" style=\"fill:#1f77b4;\"/>\n   </g>\n   <g id=\"patch_7\">\n    <path clip-path=\"url(#p0c16256e05)\" d=\"M 128.737892 224.64 \nL 144.148709 224.64 \nL 144.148709 224.64 \nL 128.737892 224.64 \nz\n\" style=\"fill:#1f77b4;\"/>\n   </g>\n   <g id=\"patch_8\">\n    <path clip-path=\"url(#p0c16256e05)\" d=\"M 148.001413 224.64 \nL 163.41223 224.64 \nL 163.41223 28.945787 \nL 148.001413 28.945787 \nz\n\" style=\"fill:#1f77b4;\"/>\n   </g>\n   <g id=\"patch_9\">\n    <path clip-path=\"url(#p0c16256e05)\" d=\"M 167.264935 224.64 \nL 182.675752 224.64 \nL 182.675752 213.958385 \nL 167.264935 213.958385 \nz\n\" style=\"fill:#1f77b4;\"/>\n   </g>\n   <g id=\"patch_10\">\n    <path clip-path=\"url(#p0c16256e05)\" d=\"M 186.528456 224.64 \nL 201.939273 224.64 \nL 201.939273 224.64 \nL 186.528456 224.64 \nz\n\" style=\"fill:#1f77b4;\"/>\n   </g>\n   <g id=\"patch_11\">\n    <path clip-path=\"url(#p0c16256e05)\" d=\"M 205.791977 224.64 \nL 221.202794 224.64 \nL 221.202794 224.64 \nL 205.791977 224.64 \nz\n\" style=\"fill:#1f77b4;\"/>\n   </g>\n   <g id=\"patch_12\">\n    <path clip-path=\"url(#p0c16256e05)\" d=\"M 225.055498 224.64 \nL 240.466315 224.64 \nL 240.466315 186.52679 \nL 225.055498 186.52679 \nz\n\" style=\"fill:#1f77b4;\"/>\n   </g>\n   <g id=\"patch_13\">\n    <path clip-path=\"url(#p0c16256e05)\" d=\"M 244.31902 224.64 \nL 259.729837 224.64 \nL 259.729837 17.554286 \nL 244.31902 17.554286 \nz\n\" style=\"fill:#1f77b4;\"/>\n   </g>\n   <g id=\"patch_14\">\n    <path clip-path=\"url(#p0c16256e05)\" d=\"M 263.582541 224.64 \nL 278.993358 224.64 \nL 278.993358 224.64 \nL 263.582541 224.64 \nz\n\" style=\"fill:#1f77b4;\"/>\n   </g>\n   <g id=\"patch_15\">\n    <path clip-path=\"url(#p0c16256e05)\" d=\"M 282.846062 224.64 \nL 298.256879 224.64 \nL 298.256879 20.22623 \nL 282.846062 20.22623 \nz\n\" style=\"fill:#1f77b4;\"/>\n   </g>\n   <g id=\"patch_16\">\n    <path clip-path=\"url(#p0c16256e05)\" d=\"M 302.109584 224.64 \nL 317.520401 224.64 \nL 317.520401 224.64 \nL 302.109584 224.64 \nz\n\" style=\"fill:#1f77b4;\"/>\n   </g>\n   <g id=\"patch_17\">\n    <path clip-path=\"url(#p0c16256e05)\" d=\"M 321.373105 224.64 \nL 336.783922 224.64 \nL 336.783922 224.64 \nL 321.373105 224.64 \nz\n\" style=\"fill:#1f77b4;\"/>\n   </g>\n   <g id=\"patch_18\">\n    <path clip-path=\"url(#p0c16256e05)\" d=\"M 340.636626 224.64 \nL 356.047443 224.64 \nL 356.047443 190.419879 \nL 340.636626 190.419879 \nz\n\" style=\"fill:#1f77b4;\"/>\n   </g>\n   <g id=\"matplotlib.axis_1\">\n    <g id=\"xtick_1\">\n     <g id=\"line2d_1\">\n      <defs>\n       <path d=\"M 0 0 \nL 0 3.5 \n\" id=\"ma30e2c24c6\" style=\"stroke:#000000;stroke-width:0.8;\"/>\n      </defs>\n      <g>\n       <use style=\"stroke:#000000;stroke-width:0.8;\" x=\"59.389215\" xlink:href=\"#ma30e2c24c6\" y=\"224.64\"/>\n      </g>\n     </g>\n     <g id=\"text_1\">\n      <!-- 0 -->\n      <g transform=\"translate(56.207965 239.238437)scale(0.1 -0.1)\">\n       <defs>\n        <path d=\"M 31.78125 66.40625 \nQ 24.171875 66.40625 20.328125 58.90625 \nQ 16.5 51.421875 16.5 36.375 \nQ 16.5 21.390625 20.328125 13.890625 \nQ 24.171875 6.390625 31.78125 6.390625 \nQ 39.453125 6.390625 43.28125 13.890625 \nQ 47.125 21.390625 47.125 36.375 \nQ 47.125 51.421875 43.28125 58.90625 \nQ 39.453125 66.40625 31.78125 66.40625 \nz\nM 31.78125 74.21875 \nQ 44.046875 74.21875 50.515625 64.515625 \nQ 56.984375 54.828125 56.984375 36.375 \nQ 56.984375 17.96875 50.515625 8.265625 \nQ 44.046875 -1.421875 31.78125 -1.421875 \nQ 19.53125 -1.421875 13.0625 8.265625 \nQ 6.59375 17.96875 6.59375 36.375 \nQ 6.59375 54.828125 13.0625 64.515625 \nQ 19.53125 74.21875 31.78125 74.21875 \nz\n\" id=\"DejaVuSans-48\"/>\n       </defs>\n       <use xlink:href=\"#DejaVuSans-48\"/>\n      </g>\n     </g>\n    </g>\n    <g id=\"xtick_2\">\n     <g id=\"line2d_2\">\n      <g>\n       <use style=\"stroke:#000000;stroke-width:0.8;\" x=\"97.916258\" xlink:href=\"#ma30e2c24c6\" y=\"224.64\"/>\n      </g>\n     </g>\n     <g id=\"text_2\">\n      <!-- 2 -->\n      <g transform=\"translate(94.735008 239.238437)scale(0.1 -0.1)\">\n       <defs>\n        <path d=\"M 19.1875 8.296875 \nL 53.609375 8.296875 \nL 53.609375 0 \nL 7.328125 0 \nL 7.328125 8.296875 \nQ 12.9375 14.109375 22.625 23.890625 \nQ 32.328125 33.6875 34.8125 36.53125 \nQ 39.546875 41.84375 41.421875 45.53125 \nQ 43.3125 49.21875 43.3125 52.78125 \nQ 43.3125 58.59375 39.234375 62.25 \nQ 35.15625 65.921875 28.609375 65.921875 \nQ 23.96875 65.921875 18.8125 64.3125 \nQ 13.671875 62.703125 7.8125 59.421875 \nL 7.8125 69.390625 \nQ 13.765625 71.78125 18.9375 73 \nQ 24.125 74.21875 28.421875 74.21875 \nQ 39.75 74.21875 46.484375 68.546875 \nQ 53.21875 62.890625 53.21875 53.421875 \nQ 53.21875 48.921875 51.53125 44.890625 \nQ 49.859375 40.875 45.40625 35.40625 \nQ 44.1875 33.984375 37.640625 27.21875 \nQ 31.109375 20.453125 19.1875 8.296875 \nz\n\" id=\"DejaVuSans-50\"/>\n       </defs>\n       <use xlink:href=\"#DejaVuSans-50\"/>\n      </g>\n     </g>\n    </g>\n    <g id=\"xtick_3\">\n     <g id=\"line2d_3\">\n      <g>\n       <use style=\"stroke:#000000;stroke-width:0.8;\" x=\"136.4433\" xlink:href=\"#ma30e2c24c6\" y=\"224.64\"/>\n      </g>\n     </g>\n     <g id=\"text_3\">\n      <!-- 4 -->\n      <g transform=\"translate(133.26205 239.238437)scale(0.1 -0.1)\">\n       <defs>\n        <path d=\"M 37.796875 64.3125 \nL 12.890625 25.390625 \nL 37.796875 25.390625 \nz\nM 35.203125 72.90625 \nL 47.609375 72.90625 \nL 47.609375 25.390625 \nL 58.015625 25.390625 \nL 58.015625 17.1875 \nL 47.609375 17.1875 \nL 47.609375 0 \nL 37.796875 0 \nL 37.796875 17.1875 \nL 4.890625 17.1875 \nL 4.890625 26.703125 \nz\n\" id=\"DejaVuSans-52\"/>\n       </defs>\n       <use xlink:href=\"#DejaVuSans-52\"/>\n      </g>\n     </g>\n    </g>\n    <g id=\"xtick_4\">\n     <g id=\"line2d_4\">\n      <g>\n       <use style=\"stroke:#000000;stroke-width:0.8;\" x=\"174.970343\" xlink:href=\"#ma30e2c24c6\" y=\"224.64\"/>\n      </g>\n     </g>\n     <g id=\"text_4\">\n      <!-- 6 -->\n      <g transform=\"translate(171.789093 239.238437)scale(0.1 -0.1)\">\n       <defs>\n        <path d=\"M 33.015625 40.375 \nQ 26.375 40.375 22.484375 35.828125 \nQ 18.609375 31.296875 18.609375 23.390625 \nQ 18.609375 15.53125 22.484375 10.953125 \nQ 26.375 6.390625 33.015625 6.390625 \nQ 39.65625 6.390625 43.53125 10.953125 \nQ 47.40625 15.53125 47.40625 23.390625 \nQ 47.40625 31.296875 43.53125 35.828125 \nQ 39.65625 40.375 33.015625 40.375 \nz\nM 52.59375 71.296875 \nL 52.59375 62.3125 \nQ 48.875 64.0625 45.09375 64.984375 \nQ 41.3125 65.921875 37.59375 65.921875 \nQ 27.828125 65.921875 22.671875 59.328125 \nQ 17.53125 52.734375 16.796875 39.40625 \nQ 19.671875 43.65625 24.015625 45.921875 \nQ 28.375 48.1875 33.59375 48.1875 \nQ 44.578125 48.1875 50.953125 41.515625 \nQ 57.328125 34.859375 57.328125 23.390625 \nQ 57.328125 12.15625 50.6875 5.359375 \nQ 44.046875 -1.421875 33.015625 -1.421875 \nQ 20.359375 -1.421875 13.671875 8.265625 \nQ 6.984375 17.96875 6.984375 36.375 \nQ 6.984375 53.65625 15.1875 63.9375 \nQ 23.390625 74.21875 37.203125 74.21875 \nQ 40.921875 74.21875 44.703125 73.484375 \nQ 48.484375 72.75 52.59375 71.296875 \nz\n\" id=\"DejaVuSans-54\"/>\n       </defs>\n       <use xlink:href=\"#DejaVuSans-54\"/>\n      </g>\n     </g>\n    </g>\n    <g id=\"xtick_5\">\n     <g id=\"line2d_5\">\n      <g>\n       <use style=\"stroke:#000000;stroke-width:0.8;\" x=\"213.497386\" xlink:href=\"#ma30e2c24c6\" y=\"224.64\"/>\n      </g>\n     </g>\n     <g id=\"text_5\">\n      <!-- 8 -->\n      <g transform=\"translate(210.316136 239.238437)scale(0.1 -0.1)\">\n       <defs>\n        <path d=\"M 31.78125 34.625 \nQ 24.75 34.625 20.71875 30.859375 \nQ 16.703125 27.09375 16.703125 20.515625 \nQ 16.703125 13.921875 20.71875 10.15625 \nQ 24.75 6.390625 31.78125 6.390625 \nQ 38.8125 6.390625 42.859375 10.171875 \nQ 46.921875 13.96875 46.921875 20.515625 \nQ 46.921875 27.09375 42.890625 30.859375 \nQ 38.875 34.625 31.78125 34.625 \nz\nM 21.921875 38.8125 \nQ 15.578125 40.375 12.03125 44.71875 \nQ 8.5 49.078125 8.5 55.328125 \nQ 8.5 64.0625 14.71875 69.140625 \nQ 20.953125 74.21875 31.78125 74.21875 \nQ 42.671875 74.21875 48.875 69.140625 \nQ 55.078125 64.0625 55.078125 55.328125 \nQ 55.078125 49.078125 51.53125 44.71875 \nQ 48 40.375 41.703125 38.8125 \nQ 48.828125 37.15625 52.796875 32.3125 \nQ 56.78125 27.484375 56.78125 20.515625 \nQ 56.78125 9.90625 50.3125 4.234375 \nQ 43.84375 -1.421875 31.78125 -1.421875 \nQ 19.734375 -1.421875 13.25 4.234375 \nQ 6.78125 9.90625 6.78125 20.515625 \nQ 6.78125 27.484375 10.78125 32.3125 \nQ 14.796875 37.15625 21.921875 38.8125 \nz\nM 18.3125 54.390625 \nQ 18.3125 48.734375 21.84375 45.5625 \nQ 25.390625 42.390625 31.78125 42.390625 \nQ 38.140625 42.390625 41.71875 45.5625 \nQ 45.3125 48.734375 45.3125 54.390625 \nQ 45.3125 60.0625 41.71875 63.234375 \nQ 38.140625 66.40625 31.78125 66.40625 \nQ 25.390625 66.40625 21.84375 63.234375 \nQ 18.3125 60.0625 18.3125 54.390625 \nz\n\" id=\"DejaVuSans-56\"/>\n       </defs>\n       <use xlink:href=\"#DejaVuSans-56\"/>\n      </g>\n     </g>\n    </g>\n    <g id=\"xtick_6\">\n     <g id=\"line2d_6\">\n      <g>\n       <use style=\"stroke:#000000;stroke-width:0.8;\" x=\"252.024428\" xlink:href=\"#ma30e2c24c6\" y=\"224.64\"/>\n      </g>\n     </g>\n     <g id=\"text_6\">\n      <!-- 10 -->\n      <g transform=\"translate(245.661928 239.238437)scale(0.1 -0.1)\">\n       <defs>\n        <path d=\"M 12.40625 8.296875 \nL 28.515625 8.296875 \nL 28.515625 63.921875 \nL 10.984375 60.40625 \nL 10.984375 69.390625 \nL 28.421875 72.90625 \nL 38.28125 72.90625 \nL 38.28125 8.296875 \nL 54.390625 8.296875 \nL 54.390625 0 \nL 12.40625 0 \nz\n\" id=\"DejaVuSans-49\"/>\n       </defs>\n       <use xlink:href=\"#DejaVuSans-49\"/>\n       <use x=\"63.623047\" xlink:href=\"#DejaVuSans-48\"/>\n      </g>\n     </g>\n    </g>\n    <g id=\"xtick_7\">\n     <g id=\"line2d_7\">\n      <g>\n       <use style=\"stroke:#000000;stroke-width:0.8;\" x=\"290.551471\" xlink:href=\"#ma30e2c24c6\" y=\"224.64\"/>\n      </g>\n     </g>\n     <g id=\"text_7\">\n      <!-- 12 -->\n      <g transform=\"translate(284.188971 239.238437)scale(0.1 -0.1)\">\n       <use xlink:href=\"#DejaVuSans-49\"/>\n       <use x=\"63.623047\" xlink:href=\"#DejaVuSans-50\"/>\n      </g>\n     </g>\n    </g>\n    <g id=\"xtick_8\">\n     <g id=\"line2d_8\">\n      <g>\n       <use style=\"stroke:#000000;stroke-width:0.8;\" x=\"329.078513\" xlink:href=\"#ma30e2c24c6\" y=\"224.64\"/>\n      </g>\n     </g>\n     <g id=\"text_8\">\n      <!-- 14 -->\n      <g transform=\"translate(322.716013 239.238437)scale(0.1 -0.1)\">\n       <use xlink:href=\"#DejaVuSans-49\"/>\n       <use x=\"63.623047\" xlink:href=\"#DejaVuSans-52\"/>\n      </g>\n     </g>\n    </g>\n    <g id=\"xtick_9\">\n     <g id=\"line2d_9\">\n      <g>\n       <use style=\"stroke:#000000;stroke-width:0.8;\" x=\"367.605556\" xlink:href=\"#ma30e2c24c6\" y=\"224.64\"/>\n      </g>\n     </g>\n     <g id=\"text_9\">\n      <!-- 16 -->\n      <g transform=\"translate(361.243056 239.238437)scale(0.1 -0.1)\">\n       <use xlink:href=\"#DejaVuSans-49\"/>\n       <use x=\"63.623047\" xlink:href=\"#DejaVuSans-54\"/>\n      </g>\n     </g>\n    </g>\n   </g>\n   <g id=\"matplotlib.axis_2\">\n    <g id=\"ytick_1\">\n     <g id=\"line2d_10\">\n      <defs>\n       <path d=\"M 0 0 \nL -3.5 0 \n\" id=\"mf5681d6203\" style=\"stroke:#000000;stroke-width:0.8;\"/>\n      </defs>\n      <g>\n       <use style=\"stroke:#000000;stroke-width:0.8;\" x=\"36.465625\" xlink:href=\"#mf5681d6203\" y=\"224.64\"/>\n      </g>\n     </g>\n     <g id=\"text_10\">\n      <!-- 0.00 -->\n      <g transform=\"translate(7.2 228.439219)scale(0.1 -0.1)\">\n       <defs>\n        <path d=\"M 10.6875 12.40625 \nL 21 12.40625 \nL 21 0 \nL 10.6875 0 \nz\n\" id=\"DejaVuSans-46\"/>\n       </defs>\n       <use xlink:href=\"#DejaVuSans-48\"/>\n       <use x=\"63.623047\" xlink:href=\"#DejaVuSans-46\"/>\n       <use x=\"95.410156\" xlink:href=\"#DejaVuSans-48\"/>\n       <use x=\"159.033203\" xlink:href=\"#DejaVuSans-48\"/>\n      </g>\n     </g>\n    </g>\n    <g id=\"ytick_2\">\n     <g id=\"line2d_11\">\n      <g>\n       <use style=\"stroke:#000000;stroke-width:0.8;\" x=\"36.465625\" xlink:href=\"#mf5681d6203\" y=\"179.941902\"/>\n      </g>\n     </g>\n     <g id=\"text_11\">\n      <!-- 0.05 -->\n      <g transform=\"translate(7.2 183.74112)scale(0.1 -0.1)\">\n       <defs>\n        <path d=\"M 10.796875 72.90625 \nL 49.515625 72.90625 \nL 49.515625 64.59375 \nL 19.828125 64.59375 \nL 19.828125 46.734375 \nQ 21.96875 47.46875 24.109375 47.828125 \nQ 26.265625 48.1875 28.421875 48.1875 \nQ 40.625 48.1875 47.75 41.5 \nQ 54.890625 34.8125 54.890625 23.390625 \nQ 54.890625 11.625 47.5625 5.09375 \nQ 40.234375 -1.421875 26.90625 -1.421875 \nQ 22.3125 -1.421875 17.546875 -0.640625 \nQ 12.796875 0.140625 7.71875 1.703125 \nL 7.71875 11.625 \nQ 12.109375 9.234375 16.796875 8.0625 \nQ 21.484375 6.890625 26.703125 6.890625 \nQ 35.15625 6.890625 40.078125 11.328125 \nQ 45.015625 15.765625 45.015625 23.390625 \nQ 45.015625 31 40.078125 35.4375 \nQ 35.15625 39.890625 26.703125 39.890625 \nQ 22.75 39.890625 18.8125 39.015625 \nQ 14.890625 38.140625 10.796875 36.28125 \nz\n\" id=\"DejaVuSans-53\"/>\n       </defs>\n       <use xlink:href=\"#DejaVuSans-48\"/>\n       <use x=\"63.623047\" xlink:href=\"#DejaVuSans-46\"/>\n       <use x=\"95.410156\" xlink:href=\"#DejaVuSans-48\"/>\n       <use x=\"159.033203\" xlink:href=\"#DejaVuSans-53\"/>\n      </g>\n     </g>\n    </g>\n    <g id=\"ytick_3\">\n     <g id=\"line2d_12\">\n      <g>\n       <use style=\"stroke:#000000;stroke-width:0.8;\" x=\"36.465625\" xlink:href=\"#mf5681d6203\" y=\"135.243803\"/>\n      </g>\n     </g>\n     <g id=\"text_12\">\n      <!-- 0.10 -->\n      <g transform=\"translate(7.2 139.043022)scale(0.1 -0.1)\">\n       <use xlink:href=\"#DejaVuSans-48\"/>\n       <use x=\"63.623047\" xlink:href=\"#DejaVuSans-46\"/>\n       <use x=\"95.410156\" xlink:href=\"#DejaVuSans-49\"/>\n       <use x=\"159.033203\" xlink:href=\"#DejaVuSans-48\"/>\n      </g>\n     </g>\n    </g>\n    <g id=\"ytick_4\">\n     <g id=\"line2d_13\">\n      <g>\n       <use style=\"stroke:#000000;stroke-width:0.8;\" x=\"36.465625\" xlink:href=\"#mf5681d6203\" y=\"90.545705\"/>\n      </g>\n     </g>\n     <g id=\"text_13\">\n      <!-- 0.15 -->\n      <g transform=\"translate(7.2 94.344924)scale(0.1 -0.1)\">\n       <use xlink:href=\"#DejaVuSans-48\"/>\n       <use x=\"63.623047\" xlink:href=\"#DejaVuSans-46\"/>\n       <use x=\"95.410156\" xlink:href=\"#DejaVuSans-49\"/>\n       <use x=\"159.033203\" xlink:href=\"#DejaVuSans-53\"/>\n      </g>\n     </g>\n    </g>\n    <g id=\"ytick_5\">\n     <g id=\"line2d_14\">\n      <g>\n       <use style=\"stroke:#000000;stroke-width:0.8;\" x=\"36.465625\" xlink:href=\"#mf5681d6203\" y=\"45.847607\"/>\n      </g>\n     </g>\n     <g id=\"text_14\">\n      <!-- 0.20 -->\n      <g transform=\"translate(7.2 49.646826)scale(0.1 -0.1)\">\n       <use xlink:href=\"#DejaVuSans-48\"/>\n       <use x=\"63.623047\" xlink:href=\"#DejaVuSans-46\"/>\n       <use x=\"95.410156\" xlink:href=\"#DejaVuSans-50\"/>\n       <use x=\"159.033203\" xlink:href=\"#DejaVuSans-48\"/>\n      </g>\n     </g>\n    </g>\n   </g>\n   <g id=\"patch_19\">\n    <path d=\"M 36.465625 224.64 \nL 36.465625 7.2 \n\" style=\"fill:none;stroke:#000000;stroke-linecap:square;stroke-linejoin:miter;stroke-width:0.8;\"/>\n   </g>\n   <g id=\"patch_20\">\n    <path d=\"M 371.265625 224.64 \nL 371.265625 7.2 \n\" style=\"fill:none;stroke:#000000;stroke-linecap:square;stroke-linejoin:miter;stroke-width:0.8;\"/>\n   </g>\n   <g id=\"patch_21\">\n    <path d=\"M 36.465625 224.64 \nL 371.265625 224.64 \n\" style=\"fill:none;stroke:#000000;stroke-linecap:square;stroke-linejoin:miter;stroke-width:0.8;\"/>\n   </g>\n   <g id=\"patch_22\">\n    <path d=\"M 36.465625 7.2 \nL 371.265625 7.2 \n\" style=\"fill:none;stroke:#000000;stroke-linecap:square;stroke-linejoin:miter;stroke-width:0.8;\"/>\n   </g>\n  </g>\n </g>\n <defs>\n  <clipPath id=\"p0c16256e05\">\n   <rect height=\"217.44\" width=\"334.8\" x=\"36.465625\" y=\"7.2\"/>\n  </clipPath>\n </defs>\n</svg>\n",
      "image/png": "[encoded data removed]"
     },
     "metadata": {
      "needs_background": "light"
     }
    }
   ],
   "source": [
    "#Train Circuit on simulator\n",
    "result=noisyopt.minimizeSPSA(run_circuit_and_calc_cost, params, args=args, bounds=bnds, niter=max_iter, disp=False, paired=False)\n",
    "\n",
    "print(\"Success: \", result.success)\n",
    "print(result.message)\n",
    "print(\"Final cost function is \", result.fun)\n",
    "print(\"Min possible cost function is \", np.log2(len(target_states)))\n",
    "print(\"Number of iterations is \", result.nit)\n",
    "print(\"Number of function evaluations is \", result.nfev)\n",
    "print(\"Number of parameters was \", len(params))\n",
    "\n",
    "#Plot output\n",
    "result_hist=run_iteration(result.x, n, conn, layers, shots)\n",
    "full_hist=[0]*(2**n)\n",
    "for state in result_hist:\n",
    "    state_int=int(state, 2)\n",
    "    full_hist[state_int]=result_hist[state]\n",
    "plt.figure()\n",
    "plt.bar(range(2**n),full_hist)"
   ]
  },
  {
   "cell_type": "code",
   "execution_count": 16,
   "metadata": {},
   "outputs": [
    {
     "output_type": "stream",
     "name": "stdout",
     "text": [
      "Loading package Microsoft.Quantum.Providers.IonQ and dependencies...\n",
      "Active target is now ionq.qpu\n",
      "Submitting Cost.AllocateQubitsandRunCircuit to target ionq.qpu...\n",
      "Job successfully submitted for 1000 shots.\n",
      "   Job name: Cost.AllocateQubitsandRunCircuit\n",
      "   Job ID: 4c8bdf3f-6265-4820-94d0-5e6c57b23162\n",
      "Task status is Failed\n",
      "Submitting Cost.AllocateQubitsandRunCircuit to target ionq.qpu...\n",
      "Job successfully submitted for 1000 shots.\n",
      "   Job name: Cost.AllocateQubitsandRunCircuit\n",
      "   Job ID: 5acab038-ffde-4446-83e1-08d1448b246d\n",
      "Task status is Succeeded\n",
      "3.856360043311813\n",
      "Submitting Cost.AllocateQubitsandRunCircuit to target ionq.qpu...\n",
      "Job successfully submitted for 1000 shots.\n",
      "   Job name: Cost.AllocateQubitsandRunCircuit\n",
      "   Job ID: aa170fa0-c3db-4ee6-9b85-64d3b22fb8df\n",
      "Task status is Succeeded\n",
      "9.734284430023031\n",
      "Submitting Cost.AllocateQubitsandRunCircuit to target ionq.qpu...\n",
      "Job successfully submitted for 1000 shots.\n",
      "   Job name: Cost.AllocateQubitsandRunCircuit\n",
      "   Job ID: 725a4f4e-9c37-4516-a10a-cea7bd9e1c16\n",
      "Task status is Succeeded\n",
      "5.414904267188581\n",
      "Submitting Cost.AllocateQubitsandRunCircuit to target ionq.qpu...\n",
      "Job successfully submitted for 1000 shots.\n",
      "   Job name: Cost.AllocateQubitsandRunCircuit\n",
      "   Job ID: 4090afd6-8ca6-4379-9333-b710e16efa14\n",
      "Task status is Succeeded\n",
      "3.608371240494687\n",
      "Submitting Cost.AllocateQubitsandRunCircuit to target ionq.qpu...\n",
      "Job successfully submitted for 1000 shots.\n",
      "   Job name: Cost.AllocateQubitsandRunCircuit\n",
      "   Job ID: be8427ab-be5c-4f52-8c84-fce194821ec9\n",
      "Task status is Succeeded\n",
      "4.922599280399746\n",
      "Submitting Cost.AllocateQubitsandRunCircuit to target ionq.qpu...\n",
      "Job successfully submitted for 1000 shots.\n",
      "   Job name: Cost.AllocateQubitsandRunCircuit\n",
      "   Job ID: bd53db77-1133-422f-ac23-4e4087949c1f\n",
      "Task status is Succeeded\n",
      "3.953235763944982\n",
      "Submitting Cost.AllocateQubitsandRunCircuit to target ionq.qpu...\n",
      "Job successfully submitted for 1000 shots.\n",
      "   Job name: Cost.AllocateQubitsandRunCircuit\n",
      "   Job ID: 3c2a8c6d-5860-402c-a7d0-4767fe08d04e\n",
      "Task status is Succeeded\n",
      "3.4729730402572674\n",
      "Submitting Cost.AllocateQubitsandRunCircuit to target ionq.qpu...\n",
      "Job successfully submitted for 1000 shots.\n",
      "   Job name: Cost.AllocateQubitsandRunCircuit\n",
      "   Job ID: 86cc5993-4902-4be6-a5d5-ca4812d0a0a3\n",
      "Task status is Succeeded\n",
      "5.768732152552753\n",
      "Submitting Cost.AllocateQubitsandRunCircuit to target ionq.qpu...\n",
      "Job successfully submitted for 1000 shots.\n",
      "   Job name: Cost.AllocateQubitsandRunCircuit\n",
      "   Job ID: f631b9d2-8df5-48a6-a57d-345a4821bc04\n",
      "Task status is Failed\n",
      "Submitting Cost.AllocateQubitsandRunCircuit to target ionq.qpu...\n",
      "Job successfully submitted for 1000 shots.\n",
      "   Job name: Cost.AllocateQubitsandRunCircuit\n",
      "   Job ID: 71babee4-d296-4859-b18e-664621eab32e\n",
      "Task status is Succeeded\n",
      "5.504902151009315\n",
      "Submitting Cost.AllocateQubitsandRunCircuit to target ionq.qpu...\n",
      "Job successfully submitted for 1000 shots.\n",
      "   Job name: Cost.AllocateQubitsandRunCircuit\n",
      "   Job ID: a10f806c-f54f-4485-a098-adb921a5ed77\n",
      "Task status is Succeeded\n",
      "2.958004892234843\n",
      "Submitting Cost.AllocateQubitsandRunCircuit to target ionq.qpu...\n",
      "Job successfully submitted for 1000 shots.\n",
      "   Job name: Cost.AllocateQubitsandRunCircuit\n",
      "   Job ID: 8edeccef-81c6-402a-a574-ddb864299d7b\n",
      "Task status is Succeeded\n",
      "3.3355333227131387\n",
      "Submitting Cost.AllocateQubitsandRunCircuit to target ionq.qpu...\n",
      "Job successfully submitted for 1000 shots.\n",
      "   Job name: Cost.AllocateQubitsandRunCircuit\n",
      "   Job ID: 9a964ec3-9e5f-4a1f-bfed-6fd8b2b6a6aa\n",
      "Task status is Succeeded\n",
      "4.709356776383445\n",
      "Submitting Cost.AllocateQubitsandRunCircuit to target ionq.qpu...\n",
      "Job successfully submitted for 1000 shots.\n",
      "   Job name: Cost.AllocateQubitsandRunCircuit\n",
      "   Job ID: 8dd13bfc-5613-4377-b45e-628329bfab86\n",
      "Task status is Succeeded\n",
      "3.8989235840910403\n",
      "Submitting Cost.AllocateQubitsandRunCircuit to target ionq.qpu...\n",
      "Job successfully submitted for 1000 shots.\n",
      "   Job name: Cost.AllocateQubitsandRunCircuit\n",
      "   Job ID: e99f6c97-20d3-4a8d-9585-326516590fc9\n",
      "Task status is Succeeded\n",
      "3.799891067043447\n",
      "Submitting Cost.AllocateQubitsandRunCircuit to target ionq.qpu...\n",
      "Job successfully submitted for 1000 shots.\n",
      "   Job name: Cost.AllocateQubitsandRunCircuit\n",
      "   Job ID: 1c58255a-fac2-4f95-b35b-df892fac8d93\n",
      "Task status is Succeeded\n",
      "3.9772593520185806\n",
      "Submitting Cost.AllocateQubitsandRunCircuit to target ionq.qpu...\n",
      "Job successfully submitted for 1000 shots.\n",
      "   Job name: Cost.AllocateQubitsandRunCircuit\n",
      "   Job ID: b567a96a-3690-4dd7-a736-d40b577f21f4\n",
      "Task status is Succeeded\n",
      "3.7847438872500065\n",
      "Submitting Cost.AllocateQubitsandRunCircuit to target ionq.qpu...\n",
      "Job successfully submitted for 1000 shots.\n",
      "   Job name: Cost.AllocateQubitsandRunCircuit\n",
      "   Job ID: c26b565f-f5ca-4e76-bbd0-eacd74c188a9\n",
      "Task status is Succeeded\n",
      "2.930723812423676\n",
      "Submitting Cost.AllocateQubitsandRunCircuit to target ionq.qpu...\n",
      "Job successfully submitted for 1000 shots.\n",
      "   Job name: Cost.AllocateQubitsandRunCircuit\n",
      "   Job ID: bf11f09a-2ccf-44e4-aedd-5196eb2e11c2\n",
      "Task status is Succeeded\n",
      "4.188741236335453\n",
      "Submitting Cost.AllocateQubitsandRunCircuit to target ionq.qpu...\n",
      "Job successfully submitted for 1000 shots.\n",
      "   Job name: Cost.AllocateQubitsandRunCircuit\n",
      "   Job ID: be3b38f6-8c63-4406-b460-0062d453a936\n",
      "Task status is Succeeded\n",
      "2.8271449025271083\n",
      "Submitting Cost.AllocateQubitsandRunCircuit to target ionq.qpu...\n",
      "Job successfully submitted for 1000 shots.\n",
      "   Job name: Cost.AllocateQubitsandRunCircuit\n",
      "   Job ID: eeeedfe6-1eec-4884-9f30-0022f607b092\n",
      "Task status is Succeeded\n",
      "4.790051733552515\n",
      "Submitting Cost.AllocateQubitsandRunCircuit to target ionq.qpu...\n",
      "Job successfully submitted for 1000 shots.\n",
      "   Job name: Cost.AllocateQubitsandRunCircuit\n",
      "   Job ID: 26474f32-6ada-42a7-ac16-211e269bfe30\n",
      "Task status is Succeeded\n",
      "2.5338545849309133\n",
      "Success:  True\n",
      "terminated after reaching max number of iterations\n",
      "Final cost function is  2.5338545849309133\n",
      "Min possible cost function is  2.0\n",
      "Number of iterations is  10\n",
      "Number of function evaluations is  20\n",
      "Number of parameters was  5\n",
      "Submitting Cost.AllocateQubitsandRunCircuit to target ionq.qpu...\n",
      "Job successfully submitted for 1000 shots.\n",
      "   Job name: Cost.AllocateQubitsandRunCircuit\n",
      "   Job ID: f600e35c-a627-40bc-ada4-b0b6e511775f\n",
      "Task status is Succeeded\n"
     ]
    },
    {
     "output_type": "execute_result",
     "data": {
      "text/plain": [
       "<BarContainer object of 16 artists>"
      ]
     },
     "metadata": {},
     "execution_count": 16
    },
    {
     "output_type": "display_data",
     "data": {
      "text/plain": "<Figure size 432x288 with 1 Axes>",
      "image/svg+xml": "<?xml version=\"1.0\" encoding=\"utf-8\" standalone=\"no\"?>\n<!DOCTYPE svg PUBLIC \"-//W3C//DTD SVG 1.1//EN\"\n  \"http://www.w3.org/Graphics/SVG/1.1/DTD/svg11.dtd\">\n<!-- Created with matplotlib (https://matplotlib.org/) -->\n<svg height=\"248.518125pt\" version=\"1.1\" viewBox=\"0 0 387.530556 248.518125\" width=\"387.530556pt\" xmlns=\"http://www.w3.org/2000/svg\" xmlns:xlink=\"http://www.w3.org/1999/xlink\">\n <metadata>\n  <rdf:RDF xmlns:cc=\"http://creativecommons.org/ns#\" xmlns:dc=\"http://purl.org/dc/elements/1.1/\" xmlns:rdf=\"http://www.w3.org/1999/02/22-rdf-syntax-ns#\">\n   <cc:Work>\n    <dc:type rdf:resource=\"http://purl.org/dc/dcmitype/StillImage\"/>\n    <dc:date>2021-01-29T04:48:11.149586</dc:date>\n    <dc:format>image/svg+xml</dc:format>\n    <dc:creator>\n     <cc:Agent>\n      <dc:title>Matplotlib v3.3.0, https://matplotlib.org/</dc:title>\n     </cc:Agent>\n    </dc:creator>\n   </cc:Work>\n  </rdf:RDF>\n </metadata>\n <defs>\n  <style type=\"text/css\">*{stroke-linecap:butt;stroke-linejoin:round;}</style>\n </defs>\n <g id=\"figure_1\">\n  <g id=\"patch_1\">\n   <path d=\"M 0 248.518125 \nL 387.530556 248.518125 \nL 387.530556 0 \nL 0 0 \nz\n\" style=\"fill:none;\"/>\n  </g>\n  <g id=\"axes_1\">\n   <g id=\"patch_2\">\n    <path d=\"M 42.828125 224.64 \nL 377.628125 224.64 \nL 377.628125 7.2 \nL 42.828125 7.2 \nz\n\" style=\"fill:#ffffff;\"/>\n   </g>\n   <g id=\"patch_3\">\n    <path clip-path=\"url(#p56c808047f)\" d=\"M 58.046307 224.64 \nL 73.457124 224.64 \nL 73.457124 207.795707 \nL 58.046307 207.795707 \nz\n\" style=\"fill:#1f77b4;\"/>\n   </g>\n   <g id=\"patch_4\">\n    <path clip-path=\"url(#p56c808047f)\" d=\"M 77.309828 224.64 \nL 92.720645 224.64 \nL 92.720645 200.859822 \nL 77.309828 200.859822 \nz\n\" style=\"fill:#1f77b4;\"/>\n   </g>\n   <g id=\"patch_5\">\n    <path clip-path=\"url(#p56c808047f)\" d=\"M 96.573349 224.64 \nL 111.984166 224.64 \nL 111.984166 208.786548 \nL 96.573349 208.786548 \nz\n\" style=\"fill:#1f77b4;\"/>\n   </g>\n   <g id=\"patch_6\">\n    <path clip-path=\"url(#p56c808047f)\" d=\"M 115.836871 224.64 \nL 131.247688 224.64 \nL 131.247688 66.105482 \nL 115.836871 66.105482 \nz\n\" style=\"fill:#1f77b4;\"/>\n   </g>\n   <g id=\"patch_7\">\n    <path clip-path=\"url(#p56c808047f)\" d=\"M 135.100392 224.64 \nL 150.511209 224.64 \nL 150.511209 211.75907 \nL 135.100392 211.75907 \nz\n\" style=\"fill:#1f77b4;\"/>\n   </g>\n   <g id=\"patch_8\">\n    <path clip-path=\"url(#p56c808047f)\" d=\"M 154.363913 224.64 \nL 169.77473 224.64 \nL 169.77473 17.554286 \nL 154.363913 17.554286 \nz\n\" style=\"fill:#1f77b4;\"/>\n   </g>\n   <g id=\"patch_9\">\n    <path clip-path=\"url(#p56c808047f)\" d=\"M 173.627435 224.64 \nL 189.038252 224.64 \nL 189.038252 188.969733 \nL 173.627435 188.969733 \nz\n\" style=\"fill:#1f77b4;\"/>\n   </g>\n   <g id=\"patch_10\">\n    <path clip-path=\"url(#p56c808047f)\" d=\"M 192.890956 224.64 \nL 208.301773 224.64 \nL 208.301773 203.832344 \nL 192.890956 203.832344 \nz\n\" style=\"fill:#1f77b4;\"/>\n   </g>\n   <g id=\"patch_11\">\n    <path clip-path=\"url(#p56c808047f)\" d=\"M 212.154477 224.64 \nL 227.565294 224.64 \nL 227.565294 154.290308 \nL 212.154477 154.290308 \nz\n\" style=\"fill:#1f77b4;\"/>\n   </g>\n   <g id=\"patch_12\">\n    <path clip-path=\"url(#p56c808047f)\" d=\"M 231.417998 224.64 \nL 246.828815 224.64 \nL 246.828815 205.814026 \nL 231.417998 205.814026 \nz\n\" style=\"fill:#1f77b4;\"/>\n   </g>\n   <g id=\"patch_13\">\n    <path clip-path=\"url(#p56c808047f)\" d=\"M 250.68152 224.64 \nL 266.092337 224.64 \nL 266.092337 83.940615 \nL 250.68152 83.940615 \nz\n\" style=\"fill:#1f77b4;\"/>\n   </g>\n   <g id=\"patch_14\">\n    <path clip-path=\"url(#p56c808047f)\" d=\"M 269.945041 224.64 \nL 285.355858 224.64 \nL 285.355858 215.722433 \nL 269.945041 215.722433 \nz\n\" style=\"fill:#1f77b4;\"/>\n   </g>\n   <g id=\"patch_15\">\n    <path clip-path=\"url(#p56c808047f)\" d=\"M 289.208562 224.64 \nL 304.619379 224.64 \nL 304.619379 47.279508 \nL 289.208562 47.279508 \nz\n\" style=\"fill:#1f77b4;\"/>\n   </g>\n   <g id=\"patch_16\">\n    <path clip-path=\"url(#p56c808047f)\" d=\"M 308.472084 224.64 \nL 323.882901 224.64 \nL 323.882901 212.749911 \nL 308.472084 212.749911 \nz\n\" style=\"fill:#1f77b4;\"/>\n   </g>\n   <g id=\"patch_17\">\n    <path clip-path=\"url(#p56c808047f)\" d=\"M 327.735605 224.64 \nL 343.146422 224.64 \nL 343.146422 170.143759 \nL 327.735605 170.143759 \nz\n\" style=\"fill:#1f77b4;\"/>\n   </g>\n   <g id=\"patch_18\">\n    <path clip-path=\"url(#p56c808047f)\" d=\"M 346.999126 224.64 \nL 362.409943 224.64 \nL 362.409943 207.795707 \nL 346.999126 207.795707 \nz\n\" style=\"fill:#1f77b4;\"/>\n   </g>\n   <g id=\"matplotlib.axis_1\">\n    <g id=\"xtick_1\">\n     <g id=\"line2d_1\">\n      <defs>\n       <path d=\"M 0 0 \nL 0 3.5 \n\" id=\"mc68f9c8142\" style=\"stroke:#000000;stroke-width:0.8;\"/>\n      </defs>\n      <g>\n       <use style=\"stroke:#000000;stroke-width:0.8;\" x=\"65.751715\" xlink:href=\"#mc68f9c8142\" y=\"224.64\"/>\n      </g>\n     </g>\n     <g id=\"text_1\">\n      <!-- 0 -->\n      <g transform=\"translate(62.570465 239.238437)scale(0.1 -0.1)\">\n       <defs>\n        <path d=\"M 31.78125 66.40625 \nQ 24.171875 66.40625 20.328125 58.90625 \nQ 16.5 51.421875 16.5 36.375 \nQ 16.5 21.390625 20.328125 13.890625 \nQ 24.171875 6.390625 31.78125 6.390625 \nQ 39.453125 6.390625 43.28125 13.890625 \nQ 47.125 21.390625 47.125 36.375 \nQ 47.125 51.421875 43.28125 58.90625 \nQ 39.453125 66.40625 31.78125 66.40625 \nz\nM 31.78125 74.21875 \nQ 44.046875 74.21875 50.515625 64.515625 \nQ 56.984375 54.828125 56.984375 36.375 \nQ 56.984375 17.96875 50.515625 8.265625 \nQ 44.046875 -1.421875 31.78125 -1.421875 \nQ 19.53125 -1.421875 13.0625 8.265625 \nQ 6.59375 17.96875 6.59375 36.375 \nQ 6.59375 54.828125 13.0625 64.515625 \nQ 19.53125 74.21875 31.78125 74.21875 \nz\n\" id=\"DejaVuSans-48\"/>\n       </defs>\n       <use xlink:href=\"#DejaVuSans-48\"/>\n      </g>\n     </g>\n    </g>\n    <g id=\"xtick_2\">\n     <g id=\"line2d_2\">\n      <g>\n       <use style=\"stroke:#000000;stroke-width:0.8;\" x=\"104.278758\" xlink:href=\"#mc68f9c8142\" y=\"224.64\"/>\n      </g>\n     </g>\n     <g id=\"text_2\">\n      <!-- 2 -->\n      <g transform=\"translate(101.097508 239.238437)scale(0.1 -0.1)\">\n       <defs>\n        <path d=\"M 19.1875 8.296875 \nL 53.609375 8.296875 \nL 53.609375 0 \nL 7.328125 0 \nL 7.328125 8.296875 \nQ 12.9375 14.109375 22.625 23.890625 \nQ 32.328125 33.6875 34.8125 36.53125 \nQ 39.546875 41.84375 41.421875 45.53125 \nQ 43.3125 49.21875 43.3125 52.78125 \nQ 43.3125 58.59375 39.234375 62.25 \nQ 35.15625 65.921875 28.609375 65.921875 \nQ 23.96875 65.921875 18.8125 64.3125 \nQ 13.671875 62.703125 7.8125 59.421875 \nL 7.8125 69.390625 \nQ 13.765625 71.78125 18.9375 73 \nQ 24.125 74.21875 28.421875 74.21875 \nQ 39.75 74.21875 46.484375 68.546875 \nQ 53.21875 62.890625 53.21875 53.421875 \nQ 53.21875 48.921875 51.53125 44.890625 \nQ 49.859375 40.875 45.40625 35.40625 \nQ 44.1875 33.984375 37.640625 27.21875 \nQ 31.109375 20.453125 19.1875 8.296875 \nz\n\" id=\"DejaVuSans-50\"/>\n       </defs>\n       <use xlink:href=\"#DejaVuSans-50\"/>\n      </g>\n     </g>\n    </g>\n    <g id=\"xtick_3\">\n     <g id=\"line2d_3\">\n      <g>\n       <use style=\"stroke:#000000;stroke-width:0.8;\" x=\"142.8058\" xlink:href=\"#mc68f9c8142\" y=\"224.64\"/>\n      </g>\n     </g>\n     <g id=\"text_3\">\n      <!-- 4 -->\n      <g transform=\"translate(139.62455 239.238437)scale(0.1 -0.1)\">\n       <defs>\n        <path d=\"M 37.796875 64.3125 \nL 12.890625 25.390625 \nL 37.796875 25.390625 \nz\nM 35.203125 72.90625 \nL 47.609375 72.90625 \nL 47.609375 25.390625 \nL 58.015625 25.390625 \nL 58.015625 17.1875 \nL 47.609375 17.1875 \nL 47.609375 0 \nL 37.796875 0 \nL 37.796875 17.1875 \nL 4.890625 17.1875 \nL 4.890625 26.703125 \nz\n\" id=\"DejaVuSans-52\"/>\n       </defs>\n       <use xlink:href=\"#DejaVuSans-52\"/>\n      </g>\n     </g>\n    </g>\n    <g id=\"xtick_4\">\n     <g id=\"line2d_4\">\n      <g>\n       <use style=\"stroke:#000000;stroke-width:0.8;\" x=\"181.332843\" xlink:href=\"#mc68f9c8142\" y=\"224.64\"/>\n      </g>\n     </g>\n     <g id=\"text_4\">\n      <!-- 6 -->\n      <g transform=\"translate(178.151593 239.238437)scale(0.1 -0.1)\">\n       <defs>\n        <path d=\"M 33.015625 40.375 \nQ 26.375 40.375 22.484375 35.828125 \nQ 18.609375 31.296875 18.609375 23.390625 \nQ 18.609375 15.53125 22.484375 10.953125 \nQ 26.375 6.390625 33.015625 6.390625 \nQ 39.65625 6.390625 43.53125 10.953125 \nQ 47.40625 15.53125 47.40625 23.390625 \nQ 47.40625 31.296875 43.53125 35.828125 \nQ 39.65625 40.375 33.015625 40.375 \nz\nM 52.59375 71.296875 \nL 52.59375 62.3125 \nQ 48.875 64.0625 45.09375 64.984375 \nQ 41.3125 65.921875 37.59375 65.921875 \nQ 27.828125 65.921875 22.671875 59.328125 \nQ 17.53125 52.734375 16.796875 39.40625 \nQ 19.671875 43.65625 24.015625 45.921875 \nQ 28.375 48.1875 33.59375 48.1875 \nQ 44.578125 48.1875 50.953125 41.515625 \nQ 57.328125 34.859375 57.328125 23.390625 \nQ 57.328125 12.15625 50.6875 5.359375 \nQ 44.046875 -1.421875 33.015625 -1.421875 \nQ 20.359375 -1.421875 13.671875 8.265625 \nQ 6.984375 17.96875 6.984375 36.375 \nQ 6.984375 53.65625 15.1875 63.9375 \nQ 23.390625 74.21875 37.203125 74.21875 \nQ 40.921875 74.21875 44.703125 73.484375 \nQ 48.484375 72.75 52.59375 71.296875 \nz\n\" id=\"DejaVuSans-54\"/>\n       </defs>\n       <use xlink:href=\"#DejaVuSans-54\"/>\n      </g>\n     </g>\n    </g>\n    <g id=\"xtick_5\">\n     <g id=\"line2d_5\">\n      <g>\n       <use style=\"stroke:#000000;stroke-width:0.8;\" x=\"219.859886\" xlink:href=\"#mc68f9c8142\" y=\"224.64\"/>\n      </g>\n     </g>\n     <g id=\"text_5\">\n      <!-- 8 -->\n      <g transform=\"translate(216.678636 239.238437)scale(0.1 -0.1)\">\n       <defs>\n        <path d=\"M 31.78125 34.625 \nQ 24.75 34.625 20.71875 30.859375 \nQ 16.703125 27.09375 16.703125 20.515625 \nQ 16.703125 13.921875 20.71875 10.15625 \nQ 24.75 6.390625 31.78125 6.390625 \nQ 38.8125 6.390625 42.859375 10.171875 \nQ 46.921875 13.96875 46.921875 20.515625 \nQ 46.921875 27.09375 42.890625 30.859375 \nQ 38.875 34.625 31.78125 34.625 \nz\nM 21.921875 38.8125 \nQ 15.578125 40.375 12.03125 44.71875 \nQ 8.5 49.078125 8.5 55.328125 \nQ 8.5 64.0625 14.71875 69.140625 \nQ 20.953125 74.21875 31.78125 74.21875 \nQ 42.671875 74.21875 48.875 69.140625 \nQ 55.078125 64.0625 55.078125 55.328125 \nQ 55.078125 49.078125 51.53125 44.71875 \nQ 48 40.375 41.703125 38.8125 \nQ 48.828125 37.15625 52.796875 32.3125 \nQ 56.78125 27.484375 56.78125 20.515625 \nQ 56.78125 9.90625 50.3125 4.234375 \nQ 43.84375 -1.421875 31.78125 -1.421875 \nQ 19.734375 -1.421875 13.25 4.234375 \nQ 6.78125 9.90625 6.78125 20.515625 \nQ 6.78125 27.484375 10.78125 32.3125 \nQ 14.796875 37.15625 21.921875 38.8125 \nz\nM 18.3125 54.390625 \nQ 18.3125 48.734375 21.84375 45.5625 \nQ 25.390625 42.390625 31.78125 42.390625 \nQ 38.140625 42.390625 41.71875 45.5625 \nQ 45.3125 48.734375 45.3125 54.390625 \nQ 45.3125 60.0625 41.71875 63.234375 \nQ 38.140625 66.40625 31.78125 66.40625 \nQ 25.390625 66.40625 21.84375 63.234375 \nQ 18.3125 60.0625 18.3125 54.390625 \nz\n\" id=\"DejaVuSans-56\"/>\n       </defs>\n       <use xlink:href=\"#DejaVuSans-56\"/>\n      </g>\n     </g>\n    </g>\n    <g id=\"xtick_6\">\n     <g id=\"line2d_6\">\n      <g>\n       <use style=\"stroke:#000000;stroke-width:0.8;\" x=\"258.386928\" xlink:href=\"#mc68f9c8142\" y=\"224.64\"/>\n      </g>\n     </g>\n     <g id=\"text_6\">\n      <!-- 10 -->\n      <g transform=\"translate(252.024428 239.238437)scale(0.1 -0.1)\">\n       <defs>\n        <path d=\"M 12.40625 8.296875 \nL 28.515625 8.296875 \nL 28.515625 63.921875 \nL 10.984375 60.40625 \nL 10.984375 69.390625 \nL 28.421875 72.90625 \nL 38.28125 72.90625 \nL 38.28125 8.296875 \nL 54.390625 8.296875 \nL 54.390625 0 \nL 12.40625 0 \nz\n\" id=\"DejaVuSans-49\"/>\n       </defs>\n       <use xlink:href=\"#DejaVuSans-49\"/>\n       <use x=\"63.623047\" xlink:href=\"#DejaVuSans-48\"/>\n      </g>\n     </g>\n    </g>\n    <g id=\"xtick_7\">\n     <g id=\"line2d_7\">\n      <g>\n       <use style=\"stroke:#000000;stroke-width:0.8;\" x=\"296.913971\" xlink:href=\"#mc68f9c8142\" y=\"224.64\"/>\n      </g>\n     </g>\n     <g id=\"text_7\">\n      <!-- 12 -->\n      <g transform=\"translate(290.551471 239.238437)scale(0.1 -0.1)\">\n       <use xlink:href=\"#DejaVuSans-49\"/>\n       <use x=\"63.623047\" xlink:href=\"#DejaVuSans-50\"/>\n      </g>\n     </g>\n    </g>\n    <g id=\"xtick_8\">\n     <g id=\"line2d_8\">\n      <g>\n       <use style=\"stroke:#000000;stroke-width:0.8;\" x=\"335.441013\" xlink:href=\"#mc68f9c8142\" y=\"224.64\"/>\n      </g>\n     </g>\n     <g id=\"text_8\">\n      <!-- 14 -->\n      <g transform=\"translate(329.078513 239.238437)scale(0.1 -0.1)\">\n       <use xlink:href=\"#DejaVuSans-49\"/>\n       <use x=\"63.623047\" xlink:href=\"#DejaVuSans-52\"/>\n      </g>\n     </g>\n    </g>\n    <g id=\"xtick_9\">\n     <g id=\"line2d_9\">\n      <g>\n       <use style=\"stroke:#000000;stroke-width:0.8;\" x=\"373.968056\" xlink:href=\"#mc68f9c8142\" y=\"224.64\"/>\n      </g>\n     </g>\n     <g id=\"text_9\">\n      <!-- 16 -->\n      <g transform=\"translate(367.605556 239.238437)scale(0.1 -0.1)\">\n       <use xlink:href=\"#DejaVuSans-49\"/>\n       <use x=\"63.623047\" xlink:href=\"#DejaVuSans-54\"/>\n      </g>\n     </g>\n    </g>\n   </g>\n   <g id=\"matplotlib.axis_2\">\n    <g id=\"ytick_1\">\n     <g id=\"line2d_10\">\n      <defs>\n       <path d=\"M 0 0 \nL -3.5 0 \n\" id=\"m5ac94687a8\" style=\"stroke:#000000;stroke-width:0.8;\"/>\n      </defs>\n      <g>\n       <use style=\"stroke:#000000;stroke-width:0.8;\" x=\"42.828125\" xlink:href=\"#m5ac94687a8\" y=\"224.64\"/>\n      </g>\n     </g>\n     <g id=\"text_10\">\n      <!-- 0.000 -->\n      <g transform=\"translate(7.2 228.439219)scale(0.1 -0.1)\">\n       <defs>\n        <path d=\"M 10.6875 12.40625 \nL 21 12.40625 \nL 21 0 \nL 10.6875 0 \nz\n\" id=\"DejaVuSans-46\"/>\n       </defs>\n       <use xlink:href=\"#DejaVuSans-48\"/>\n       <use x=\"63.623047\" xlink:href=\"#DejaVuSans-46\"/>\n       <use x=\"95.410156\" xlink:href=\"#DejaVuSans-48\"/>\n       <use x=\"159.033203\" xlink:href=\"#DejaVuSans-48\"/>\n       <use x=\"222.65625\" xlink:href=\"#DejaVuSans-48\"/>\n      </g>\n     </g>\n    </g>\n    <g id=\"ytick_2\">\n     <g id=\"line2d_11\">\n      <g>\n       <use style=\"stroke:#000000;stroke-width:0.8;\" x=\"42.828125\" xlink:href=\"#m5ac94687a8\" y=\"199.868982\"/>\n      </g>\n     </g>\n     <g id=\"text_11\">\n      <!-- 0.025 -->\n      <g transform=\"translate(7.2 203.6682)scale(0.1 -0.1)\">\n       <defs>\n        <path d=\"M 10.796875 72.90625 \nL 49.515625 72.90625 \nL 49.515625 64.59375 \nL 19.828125 64.59375 \nL 19.828125 46.734375 \nQ 21.96875 47.46875 24.109375 47.828125 \nQ 26.265625 48.1875 28.421875 48.1875 \nQ 40.625 48.1875 47.75 41.5 \nQ 54.890625 34.8125 54.890625 23.390625 \nQ 54.890625 11.625 47.5625 5.09375 \nQ 40.234375 -1.421875 26.90625 -1.421875 \nQ 22.3125 -1.421875 17.546875 -0.640625 \nQ 12.796875 0.140625 7.71875 1.703125 \nL 7.71875 11.625 \nQ 12.109375 9.234375 16.796875 8.0625 \nQ 21.484375 6.890625 26.703125 6.890625 \nQ 35.15625 6.890625 40.078125 11.328125 \nQ 45.015625 15.765625 45.015625 23.390625 \nQ 45.015625 31 40.078125 35.4375 \nQ 35.15625 39.890625 26.703125 39.890625 \nQ 22.75 39.890625 18.8125 39.015625 \nQ 14.890625 38.140625 10.796875 36.28125 \nz\n\" id=\"DejaVuSans-53\"/>\n       </defs>\n       <use xlink:href=\"#DejaVuSans-48\"/>\n       <use x=\"63.623047\" xlink:href=\"#DejaVuSans-46\"/>\n       <use x=\"95.410156\" xlink:href=\"#DejaVuSans-48\"/>\n       <use x=\"159.033203\" xlink:href=\"#DejaVuSans-50\"/>\n       <use x=\"222.65625\" xlink:href=\"#DejaVuSans-53\"/>\n      </g>\n     </g>\n    </g>\n    <g id=\"ytick_3\">\n     <g id=\"line2d_12\">\n      <g>\n       <use style=\"stroke:#000000;stroke-width:0.8;\" x=\"42.828125\" xlink:href=\"#m5ac94687a8\" y=\"175.097963\"/>\n      </g>\n     </g>\n     <g id=\"text_12\">\n      <!-- 0.050 -->\n      <g transform=\"translate(7.2 178.897182)scale(0.1 -0.1)\">\n       <use xlink:href=\"#DejaVuSans-48\"/>\n       <use x=\"63.623047\" xlink:href=\"#DejaVuSans-46\"/>\n       <use x=\"95.410156\" xlink:href=\"#DejaVuSans-48\"/>\n       <use x=\"159.033203\" xlink:href=\"#DejaVuSans-53\"/>\n       <use x=\"222.65625\" xlink:href=\"#DejaVuSans-48\"/>\n      </g>\n     </g>\n    </g>\n    <g id=\"ytick_4\">\n     <g id=\"line2d_13\">\n      <g>\n       <use style=\"stroke:#000000;stroke-width:0.8;\" x=\"42.828125\" xlink:href=\"#m5ac94687a8\" y=\"150.326945\"/>\n      </g>\n     </g>\n     <g id=\"text_13\">\n      <!-- 0.075 -->\n      <g transform=\"translate(7.2 154.126163)scale(0.1 -0.1)\">\n       <defs>\n        <path d=\"M 8.203125 72.90625 \nL 55.078125 72.90625 \nL 55.078125 68.703125 \nL 28.609375 0 \nL 18.3125 0 \nL 43.21875 64.59375 \nL 8.203125 64.59375 \nz\n\" id=\"DejaVuSans-55\"/>\n       </defs>\n       <use xlink:href=\"#DejaVuSans-48\"/>\n       <use x=\"63.623047\" xlink:href=\"#DejaVuSans-46\"/>\n       <use x=\"95.410156\" xlink:href=\"#DejaVuSans-48\"/>\n       <use x=\"159.033203\" xlink:href=\"#DejaVuSans-55\"/>\n       <use x=\"222.65625\" xlink:href=\"#DejaVuSans-53\"/>\n      </g>\n     </g>\n    </g>\n    <g id=\"ytick_5\">\n     <g id=\"line2d_14\">\n      <g>\n       <use style=\"stroke:#000000;stroke-width:0.8;\" x=\"42.828125\" xlink:href=\"#m5ac94687a8\" y=\"125.555926\"/>\n      </g>\n     </g>\n     <g id=\"text_14\">\n      <!-- 0.100 -->\n      <g transform=\"translate(7.2 129.355145)scale(0.1 -0.1)\">\n       <use xlink:href=\"#DejaVuSans-48\"/>\n       <use x=\"63.623047\" xlink:href=\"#DejaVuSans-46\"/>\n       <use x=\"95.410156\" xlink:href=\"#DejaVuSans-49\"/>\n       <use x=\"159.033203\" xlink:href=\"#DejaVuSans-48\"/>\n       <use x=\"222.65625\" xlink:href=\"#DejaVuSans-48\"/>\n      </g>\n     </g>\n    </g>\n    <g id=\"ytick_6\">\n     <g id=\"line2d_15\">\n      <g>\n       <use style=\"stroke:#000000;stroke-width:0.8;\" x=\"42.828125\" xlink:href=\"#m5ac94687a8\" y=\"100.784908\"/>\n      </g>\n     </g>\n     <g id=\"text_15\">\n      <!-- 0.125 -->\n      <g transform=\"translate(7.2 104.584126)scale(0.1 -0.1)\">\n       <use xlink:href=\"#DejaVuSans-48\"/>\n       <use x=\"63.623047\" xlink:href=\"#DejaVuSans-46\"/>\n       <use x=\"95.410156\" xlink:href=\"#DejaVuSans-49\"/>\n       <use x=\"159.033203\" xlink:href=\"#DejaVuSans-50\"/>\n       <use x=\"222.65625\" xlink:href=\"#DejaVuSans-53\"/>\n      </g>\n     </g>\n    </g>\n    <g id=\"ytick_7\">\n     <g id=\"line2d_16\">\n      <g>\n       <use style=\"stroke:#000000;stroke-width:0.8;\" x=\"42.828125\" xlink:href=\"#m5ac94687a8\" y=\"76.013889\"/>\n      </g>\n     </g>\n     <g id=\"text_16\">\n      <!-- 0.150 -->\n      <g transform=\"translate(7.2 79.813108)scale(0.1 -0.1)\">\n       <use xlink:href=\"#DejaVuSans-48\"/>\n       <use x=\"63.623047\" xlink:href=\"#DejaVuSans-46\"/>\n       <use x=\"95.410156\" xlink:href=\"#DejaVuSans-49\"/>\n       <use x=\"159.033203\" xlink:href=\"#DejaVuSans-53\"/>\n       <use x=\"222.65625\" xlink:href=\"#DejaVuSans-48\"/>\n      </g>\n     </g>\n    </g>\n    <g id=\"ytick_8\">\n     <g id=\"line2d_17\">\n      <g>\n       <use style=\"stroke:#000000;stroke-width:0.8;\" x=\"42.828125\" xlink:href=\"#m5ac94687a8\" y=\"51.242871\"/>\n      </g>\n     </g>\n     <g id=\"text_17\">\n      <!-- 0.175 -->\n      <g transform=\"translate(7.2 55.04209)scale(0.1 -0.1)\">\n       <use xlink:href=\"#DejaVuSans-48\"/>\n       <use x=\"63.623047\" xlink:href=\"#DejaVuSans-46\"/>\n       <use x=\"95.410156\" xlink:href=\"#DejaVuSans-49\"/>\n       <use x=\"159.033203\" xlink:href=\"#DejaVuSans-55\"/>\n       <use x=\"222.65625\" xlink:href=\"#DejaVuSans-53\"/>\n      </g>\n     </g>\n    </g>\n    <g id=\"ytick_9\">\n     <g id=\"line2d_18\">\n      <g>\n       <use style=\"stroke:#000000;stroke-width:0.8;\" x=\"42.828125\" xlink:href=\"#m5ac94687a8\" y=\"26.471852\"/>\n      </g>\n     </g>\n     <g id=\"text_18\">\n      <!-- 0.200 -->\n      <g transform=\"translate(7.2 30.271071)scale(0.1 -0.1)\">\n       <use xlink:href=\"#DejaVuSans-48\"/>\n       <use x=\"63.623047\" xlink:href=\"#DejaVuSans-46\"/>\n       <use x=\"95.410156\" xlink:href=\"#DejaVuSans-50\"/>\n       <use x=\"159.033203\" xlink:href=\"#DejaVuSans-48\"/>\n       <use x=\"222.65625\" xlink:href=\"#DejaVuSans-48\"/>\n      </g>\n     </g>\n    </g>\n   </g>\n   <g id=\"patch_19\">\n    <path d=\"M 42.828125 224.64 \nL 42.828125 7.2 \n\" style=\"fill:none;stroke:#000000;stroke-linecap:square;stroke-linejoin:miter;stroke-width:0.8;\"/>\n   </g>\n   <g id=\"patch_20\">\n    <path d=\"M 377.628125 224.64 \nL 377.628125 7.2 \n\" style=\"fill:none;stroke:#000000;stroke-linecap:square;stroke-linejoin:miter;stroke-width:0.8;\"/>\n   </g>\n   <g id=\"patch_21\">\n    <path d=\"M 42.828125 224.64 \nL 377.628125 224.64 \n\" style=\"fill:none;stroke:#000000;stroke-linecap:square;stroke-linejoin:miter;stroke-width:0.8;\"/>\n   </g>\n   <g id=\"patch_22\">\n    <path d=\"M 42.828125 7.2 \nL 377.628125 7.2 \n\" style=\"fill:none;stroke:#000000;stroke-linecap:square;stroke-linejoin:miter;stroke-width:0.8;\"/>\n   </g>\n  </g>\n </g>\n <defs>\n  <clipPath id=\"p56c808047f\">\n   <rect height=\"217.44\" width=\"334.8\" x=\"42.828125\" y=\"7.2\"/>\n  </clipPath>\n </defs>\n</svg>\n",
      "image/png": "[encoded data removed]"
     },
     "metadata": {
      "needs_background": "light"
     }
    }
   ],
   "source": [
    "#Train Circuit on qpu\n",
    "qsharp.azure.target(\"ionq.qpu\")\n",
    "result=noisyopt.minimizeSPSA(run_circuit_and_calc_cost, params, args=args, bounds=bnds, niter=max_iter, disp=False, paired=False)\n",
    "\n",
    "print(\"Success: \", result.success)\n",
    "print(result.message)\n",
    "print(\"Final cost function is \", result.fun)\n",
    "print(\"Min possible cost function is \", np.log2(len(target_states)))\n",
    "print(\"Number of iterations is \", result.nit)\n",
    "print(\"Number of function evaluations is \", result.nfev)\n",
    "print(\"Number of parameters was \", len(params))\n",
    "\n",
    "#Plot output\n",
    "result_hist=run_iteration(result.x, n, conn, layers, shots)\n",
    "full_hist=[0]*(2**n)\n",
    "for state in result_hist:\n",
    "    state_int=int(state, 2)\n",
    "    full_hist[state_int]=result_hist[state]\n",
    "plt.figure()\n",
    "plt.bar(range(2**n),full_hist)"
   ]
  },
  {
   "cell_type": "code",
   "execution_count": null,
   "metadata": {},
   "outputs": [],
   "source": []
  }
 ],
 "metadata": {
  "kernelspec": {
   "name": "python3",
   "display_name": "Python 3.6.9 64-bit",
   "metadata": {
    "interpreter": {
     "hash": "31f2aee4e71d21fbe5cf8b01ff0e069b9275f58929596ceb00d14d90e3e16cd6"
    }
   }
  },
  "language_info": {
   "codemirror_mode": {
    "name": "ipython",
    "version": 3
   },
   "file_extension": ".py",
   "mimetype": "text/x-python",
   "name": "python",
   "nbconvert_exporter": "python",
   "pygments_lexer": "ipython3",
   "version": "3.6.9-final"
  }
 },
 "nbformat": 4,
 "nbformat_minor": 4
}